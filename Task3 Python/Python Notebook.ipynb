{
 "cells": [
  {
   "cell_type": "code",
   "execution_count": 1,
   "id": "aa94df1c",
   "metadata": {},
   "outputs": [],
   "source": [
    "chest = {\n",
    "    '42': 'It is the Answer to Life the Universe and Everything.',\n",
    "    '666': 'If you would be a real seeker after truth, it is necessary that at least once in your life you doubt, as far as possible, all things.',\n",
    "    '8': 'It is wrong always, everywhere and for everyone, to believe anything upon insufficient evidence.',\n",
    "    '13': 'The Truth is in the Heart.',\n",
    "    '0': 'Freedom is secured not by the fulfilling of ones desires, but by the removal of desire.',\n",
    "    '9': 'The unexamined life is not worth living.',\n",
    "    '76': 'Life is a series of natural and spontaneous changes.',\n",
    "    '70': 'God is dead! He remains dead! And we have killed him.',\n",
    "\n",
    "}"
   ]
  },
  {
   "cell_type": "code",
   "execution_count": null,
   "id": "d2d14b22",
   "metadata": {},
   "outputs": [],
   "source": [
    "# sorted(chest.items(), key = lambda x : int(x[0]) )\n",
    "\n",
    "sort_by_key_int = {k:v for k,v in sorted(chest.items(), key = lambda x : int(x[0]))}\n",
    "print(sort_by_key_int)"
   ]
  },
  {
   "cell_type": "code",
   "execution_count": null,
   "id": "778aac38",
   "metadata": {},
   "outputs": [],
   "source": [
    "sort_by_value_asc = {k:v for k,v in sorted(chest.items(), key = lambda v1: v1[0])}\n",
    "print(sort_by_value_asc)"
   ]
  },
  {
   "cell_type": "markdown",
   "id": "f7ed9b5b",
   "metadata": {},
   "source": [
    "## 1. Sort the dictionary by its keys. Using traditional sorting.\n"
   ]
  },
  {
   "cell_type": "code",
   "execution_count": 2,
   "id": "a7572ab4",
   "metadata": {},
   "outputs": [
    {
     "name": "stdout",
     "output_type": "stream",
     "text": [
      "Sort according to keys [0, 8, 9, 13, 42, 70, 76, 666]\n"
     ]
    }
   ],
   "source": [
    "temp_lst = []\n",
    "for key, value in chest.items():\n",
    "    temp_key = int(key)\n",
    "    temp_lst.append(temp_key)\n",
    "temp_lst \n",
    "\n",
    "## Now sorting according to key\n",
    "for i in range(0, len(temp_lst)):\n",
    "    for j in range(i+1, len(temp_lst)):\n",
    "        if temp_lst[i] > temp_lst[j]:\n",
    "            temp_lst[i], temp_lst[j] = temp_lst[j], temp_lst[i]\n",
    "print('Sort according to keys', temp_lst)\n"
   ]
  },
  {
   "cell_type": "code",
   "execution_count": 3,
   "id": "0068207e",
   "metadata": {},
   "outputs": [
    {
     "name": "stdout",
     "output_type": "stream",
     "text": [
      "[(42, 'It is the Answer to Life the Universe and Everything.'), (666, 'If you would be a real seeker after truth, it is necessary that at least once in your life you doubt, as far as possible, all things.'), (8, 'It is wrong always, everywhere and for everyone, to believe anything upon insufficient evidence.'), (13, 'The Truth is in the Heart.'), (0, 'Freedom is secured not by the fulfilling of ones desires, but by the removal of desire.'), (9, 'The unexamined life is not worth living.'), (76, 'Life is a series of natural and spontaneous changes.'), (70, 'God is dead! He remains dead! And we have killed him.')]\n",
      "*****************************************************************************************************************************\n",
      "Sort according to keys [(0, 'Freedom is secured not by the fulfilling of ones desires, but by the removal of desire.'), (8, 'It is wrong always, everywhere and for everyone, to believe anything upon insufficient evidence.'), (9, 'The unexamined life is not worth living.'), (13, 'The Truth is in the Heart.'), (42, 'It is the Answer to Life the Universe and Everything.'), (70, 'God is dead! He remains dead! And we have killed him.'), (76, 'Life is a series of natural and spontaneous changes.'), (666, 'If you would be a real seeker after truth, it is necessary that at least once in your life you doubt, as far as possible, all things.')]\n"
     ]
    }
   ],
   "source": [
    "## Sorting according to key displaying key value\n",
    "temp_lst = []\n",
    "for key, value in chest.items():\n",
    "    temp_key = (int(key), value)\n",
    "    temp_lst.append(temp_key)\n",
    "print(temp_lst) \n",
    "# print(temp_lst[0][1])\n",
    "\n",
    "print('*' *125)\n",
    "\n",
    "## Now sorting according to key\n",
    "for i in range(0, len(temp_lst)):\n",
    "    for j in range(i+1, len(temp_lst)):\n",
    "        if temp_lst[i][0] > temp_lst[j][0]:\n",
    "            temp_lst[i], temp_lst[j] = temp_lst[j], temp_lst[i]\n",
    "print('Sort according to keys', temp_lst)"
   ]
  },
  {
   "cell_type": "markdown",
   "id": "e447cb47",
   "metadata": {},
   "source": [
    "## 2 Get the values of first, second, last and second last keys\n"
   ]
  },
  {
   "cell_type": "code",
   "execution_count": 4,
   "id": "ccbd1490",
   "metadata": {},
   "outputs": [
    {
     "name": "stdout",
     "output_type": "stream",
     "text": [
      "It is the Answer to Life the Universe and Everything.\n",
      "If you would be a real seeker after truth, it is necessary that at least once in your life you doubt, as far as possible, all things.\n",
      "Life is a series of natural and spontaneous changes.\n",
      "God is dead! He remains dead! And we have killed him.\n"
     ]
    }
   ],
   "source": [
    "first = list(chest.items())[0][1]\n",
    "print(first)\n",
    "\n",
    "second = list(chest.items())[1][1]\n",
    "print(second)\n",
    "\n",
    "second_last = list(chest.items())[-2][1]\n",
    "print(second_last)\n",
    "\n",
    "last = list(chest.items())[-1][1]\n",
    "print(last)\n"
   ]
  },
  {
   "cell_type": "markdown",
   "id": "91704b29",
   "metadata": {},
   "source": [
    "## 3 Concatenate the values of obtained keys in a string"
   ]
  },
  {
   "cell_type": "code",
   "execution_count": 5,
   "id": "644e1ba9",
   "metadata": {},
   "outputs": [
    {
     "data": {
      "text/plain": [
       "'It is the Answer to Life the Universe and Everything.If you would be a real seeker after truth, it is necessary that at least once in your life you doubt, as far as possible, all things.Life is a series of natural and spontaneous changes.God is dead! He remains dead! And we have killed him.'"
      ]
     },
     "execution_count": 5,
     "metadata": {},
     "output_type": "execute_result"
    }
   ],
   "source": [
    "concatenate = first + second + second_last + last\n",
    "concatenate"
   ]
  },
  {
   "cell_type": "markdown",
   "id": "2bcae443",
   "metadata": {},
   "source": [
    "## 4 Get first and last characters of each word in concatenated string, no spaces in between"
   ]
  },
  {
   "cell_type": "code",
   "execution_count": 6,
   "id": "3dab9677",
   "metadata": {},
   "outputs": [
    {
     "name": "stdout",
     "output_type": "stream",
     "text": [
      "['It', 'is', 'the', 'Answer', 'to', 'Life', 'the', 'Universe', 'and', 'Everything.If', 'you', 'would', 'be', 'a', 'real', 'seeker', 'after', 'truth,', 'it', 'is', 'necessary', 'that', 'at', 'least', 'once', 'in', 'your', 'life', 'you', 'doubt,', 'as', 'far', 'as', 'possible,', 'all', 'things.Life', 'is', 'a', 'series', 'of', 'natural', 'and', 'spontaneous', 'changes.God', 'is', 'dead!', 'He', 'remains', 'dead!', 'And', 'we', 'have', 'killed', 'him.']\n"
     ]
    }
   ],
   "source": [
    "split_string = concatenate.split()\n",
    "print(split_string)"
   ]
  },
  {
   "cell_type": "code",
   "execution_count": 7,
   "id": "5fe2f990",
   "metadata": {},
   "outputs": [
    {
     "name": "stdout",
     "output_type": "stream",
     "text": [
      "ItisteArtoLeteUeadEfyuwdbeaarlsrart,itisnyttatltoeinyrleyud,asfrasp,alteisaassofnladsscdisd!Hersd!Adwehekdh.\n"
     ]
    }
   ],
   "source": [
    "split_string = concatenate.split()\n",
    "\n",
    "new_string = ''\n",
    "\n",
    "for i in split_string:\n",
    "    new_string = new_string + i[0] + i[-1]\n",
    "    \n",
    "print(new_string)"
   ]
  },
  {
   "cell_type": "code",
   "execution_count": null,
   "id": "a4f65815",
   "metadata": {},
   "outputs": [],
   "source": []
  },
  {
   "cell_type": "markdown",
   "id": "3f7dd78b",
   "metadata": {},
   "source": [
    "<h2>5 Get the number of occurrences of each letter in the resulting string and get top 5 letters \n",
    "without using any python package. The uppercase character should be counted in the lower\n",
    "case. Eg: ‘A’ character should result in an increment of key ‘a.’. </h2>\n"
   ]
  },
  {
   "cell_type": "code",
   "execution_count": 9,
   "id": "a68291fc",
   "metadata": {},
   "outputs": [
    {
     "name": "stdout",
     "output_type": "stream",
     "text": [
      "{'i': 7, 't': 11, 's': 12, 'e': 12, 'a': 13, 'r': 7, 'o': 3, 'l': 6, 'u': 3, 'd': 9, 'f': 3, 'y': 4, 'w': 2, 'b': 1, ',': 3, 'n': 3, 'p': 1, 'c': 1, '!': 2, 'h': 3, 'k': 1, '.': 1}\n",
      "*******************************************************************************************************************************\n",
      "Total occurence [7, 11, 12, 12, 13, 7, 3, 6, 3, 9, 3, 4, 2, 1, 3, 3, 1, 1, 2, 3, 1, 1]\n",
      "[13, 12, 12, 11, 9, 7, 7, 6, 4, 3, 3, 3, 3, 3, 3, 2, 2, 1, 1, 1, 1, 1]\n",
      "Top Five  [13, 12, 12, 11, 9]\n"
     ]
    }
   ],
   "source": [
    "# a = new_string\n",
    "\n",
    "a = new_string.lower()\n",
    "\n",
    "dictionary={}\n",
    "for i in a:\n",
    "    if i in dictionary.keys():\n",
    "        dictionary[i]+=1\n",
    "    else:\n",
    "        dictionary[i]=1\n",
    "print (dictionary)\n",
    "\n",
    "print('*' * 127)\n",
    "\n",
    "### Getting values/occurence\n",
    "b = [v for k, v in dictionary.items()]\n",
    "print('Total occurence', b)\n",
    "\n",
    "## converting into list to get the top five occurences\n",
    "convert = list(b)\n",
    "\n",
    "for i in range(len(convert)):\n",
    "    for j in range(i+1, len(convert)):\n",
    "        if convert[i] < convert[j]:\n",
    "            convert[i], convert[j] = convert[j], convert[i]\n",
    "print(convert)\n",
    "top_five = convert[0:5]\n",
    "print('Top Five ', top_five)"
   ]
  },
  {
   "cell_type": "markdown",
   "id": "3533ef93",
   "metadata": {},
   "source": [
    "## 6 On the chest infront of you, there is a list of numbers.\n"
   ]
  },
  {
   "cell_type": "code",
   "execution_count": 10,
   "id": "1ad27157",
   "metadata": {},
   "outputs": [],
   "source": [
    "key_list = [52,51,61,71,56]\n",
    "top_five = [13,12,12,11,9]    "
   ]
  },
  {
   "cell_type": "markdown",
   "id": "864cd4f2",
   "metadata": {},
   "source": [
    "<h2> 7 Sum the number_of_occurrences of the resulting dictionary with values of the key_list you\n",
    "## found in the chest</h2>"
   ]
  },
  {
   "cell_type": "code",
   "execution_count": 14,
   "id": "f8aff1fc",
   "metadata": {},
   "outputs": [
    {
     "name": "stdout",
     "output_type": "stream",
     "text": [
      "[65, 63, 73, 82, 65]\n"
     ]
    }
   ],
   "source": [
    "sum_list = []\n",
    "\n",
    "for i in range (0, len(key_list)):\n",
    "    sum_list.append(key_list[i] + top_five[i])\n",
    "    \n",
    "print(sum_list)"
   ]
  },
  {
   "cell_type": "code",
   "execution_count": null,
   "id": "ece4d8b9",
   "metadata": {},
   "outputs": [],
   "source": [
    "# lst1 = [1,2,3,4,5] \n",
    "# lst2 = [2,3,4,5,5]\n",
    "\n",
    "# for c in zip(lst1, lst2):\n",
    "#     a = sum(c)\n",
    "#     print(a)\n",
    "\n",
    "# a = [5,6,7,8]\n",
    "# b = [1,2,3,4, 8]\n",
    "\n",
    "# final = [sum(x) for x in zip(a, b)]\n",
    "# final\n"
   ]
  },
  {
   "cell_type": "markdown",
   "id": "83708ae2",
   "metadata": {},
   "source": [
    "## Then, get the ascii character of those 5 summed values and you shall get the treasure."
   ]
  },
  {
   "cell_type": "code",
   "execution_count": 15,
   "id": "5879122a",
   "metadata": {},
   "outputs": [
    {
     "data": {
      "text/plain": [
       "[65, 63, 73, 82, 65]"
      ]
     },
     "execution_count": 15,
     "metadata": {},
     "output_type": "execute_result"
    }
   ],
   "source": [
    "sum_list"
   ]
  },
  {
   "cell_type": "code",
   "execution_count": 17,
   "id": "1d982226",
   "metadata": {},
   "outputs": [
    {
     "name": "stdout",
     "output_type": "stream",
     "text": [
      "['A', '?', 'I', 'R', 'A']\n"
     ]
    }
   ],
   "source": [
    "changer = [chr(x) for x in sum_list]\n",
    "print(changer)"
   ]
  },
  {
   "cell_type": "code",
   "execution_count": null,
   "id": "5fb34299",
   "metadata": {},
   "outputs": [],
   "source": []
  }
 ],
 "metadata": {
  "kernelspec": {
   "display_name": "Python 3 (ipykernel)",
   "language": "python",
   "name": "python3"
  },
  "language_info": {
   "codemirror_mode": {
    "name": "ipython",
    "version": 3
   },
   "file_extension": ".py",
   "mimetype": "text/x-python",
   "name": "python",
   "nbconvert_exporter": "python",
   "pygments_lexer": "ipython3",
   "version": "3.9.7"
  }
 },
 "nbformat": 4,
 "nbformat_minor": 5
}
